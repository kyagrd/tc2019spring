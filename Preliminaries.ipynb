{
 "cells": [
  {
   "cell_type": "markdown",
   "metadata": {
    "collapsed": false
   },
   "source": [
    "# 01 준비(Preleminaries)"
   ]
  },
  {
   "cell_type": "markdown",
   "metadata": {
    "collapsed": false
   },
   "source": [
    "----\n",
    "## 1.1 표기관례(Notational Conventions)\n",
    "* 기호(symbol)는 알파벳 앞쪽 글자로: $a$, $b$, $c$, $d$, $\\ldots$\n",
    "* 문자열(string)은 알파벳 뒤쪽 글자로: $\\ldots$, $u$, $v$, $w$, $x$, $y$, $z$\n",
    "* 집합(set)은 알파벳 대문자 및 $\\Sigma$, $\\Gamma$로\n",
    "* 문자열 $x$의 길이는 $|x|$로\n",
    "* $\\epsilon$은 빈 문자열(null string)을 나타낸다\n",
    "* $x^i$는 문자열 $x$가 $i$번 반복된 문자열을 나타낸다\n",
    "* $x^R$은 문자열 $x$의 역순 문자열을 나타낸다\n",
    "\n",
    "보기(example): $(ab)^1 = ab$, $(ab)^0 = \\varepsilon$, $(ab)^3 = ababab$, $(abcd)^R = dcba$\n",
    "\n",
    "위 보기의 내용을 하스켈(Haskell) 프로그램으로 작성해서 아래와 같이 실행해 볼 수 있다.\n",
    "아래 하스켈 프로그램이 정확히 무슨 의미인지는 나중에 차차 설명하기로 하자."
   ]
  },
  {
   "cell_type": "code",
   "execution_count": 1,
   "metadata": {
    "collapsed": false
   },
   "outputs": [
   ],
   "source": [
    "ε = \"\"\n",
    "s .^ n = concat (replicate n s)\n",
    "\n",
    "x = \"ab\"\n",
    "y = \"abcd\""
   ]
  },
  {
   "cell_type": "code",
   "execution_count": 2,
   "metadata": {
    "collapsed": false
   },
   "outputs": [
    {
     "data": {
      "text/plain": [
       "\"\""
      ]
     },
     "execution_count": 2,
     "metadata": {
     },
     "output_type": "execute_result"
    },
    {
     "data": {
      "text/plain": [
       "\"\""
      ]
     },
     "execution_count": 2,
     "metadata": {
     },
     "output_type": "execute_result"
    },
    {
     "data": {
      "text/plain": [
       "\"ab\""
      ]
     },
     "execution_count": 2,
     "metadata": {
     },
     "output_type": "execute_result"
    },
    {
     "data": {
      "text/plain": [
       "\"abab\""
      ]
     },
     "execution_count": 2,
     "metadata": {
     },
     "output_type": "execute_result"
    },
    {
     "data": {
      "text/plain": [
       "\"ababab\""
      ]
     },
     "execution_count": 2,
     "metadata": {
     },
     "output_type": "execute_result"
    },
    {
     "data": {
      "text/plain": [
       "\"ba\""
      ]
     },
     "execution_count": 2,
     "metadata": {
     },
     "output_type": "execute_result"
    }
   ],
   "source": [
    "ε\n",
    "x.^0\n",
    "x.^1\n",
    "x.^2\n",
    "x.^3\n",
    "reverse x"
   ]
  },
  {
   "cell_type": "markdown",
   "metadata": {
    "collapsed": false
   },
   "source": [
    "----\n",
    "###### 복합기호(composite symbols)\n",
    "알파벳 개수가 한정되어 있기도 하므로 계속 새로운 알파벳 글자를 쓸 수만은 없다.\n",
    "또한 너무 여러 종류의 알파벳 글자를 쓰는 것이 혼란스럽고 비슷한 성질의 관련된 여러 대상을 한 알파벳에 첨자나 기호를 덧붙여 나타내기도 한다.\n",
    "또 여러 개의 기호를 일렬로 나열하여 묶어 하나의 기호처럼 사용하기도 한다.\n",
    "\n",
    "Example: $q'$, $q_0$, $q_1$, $q_2$, $q_{ab}$, $A_5$, $[a, b]$, $[1, 5, 3]$"
   ]
  },
  {
   "cell_type": "markdown",
   "metadata": {
    "collapsed": false
   },
   "source": [
    "----\n",
    "##### 집합을 명시하기(set specification)\n",
    "* 원소나열법 (sets defined by enumeration)\n",
    "    * $A = \\{2,8\\}$\n",
    "    * $\\mathbb{N} = \\{0,1,2,3,\\ldots\\}$\n",
    "    * $B = \\{0,2,4,6,\\ldots\\}$\n",
    "    * $\\Sigma = \\{a,b,c\\}$\n",
    "    * $\\varnothing=\\{\\}$\n",
    "* 조건제시법 (sets defined by a predicate):\n",
    "    * $B = \\{n \\mid n\\in\\mathbb{N},~ \\text{$n$은 짝수}\\} = \\{2\\times n \\mid n\\in\\mathbb{N}\\}$\n",
    "    * $C = \\left\\{xx^R \\mid \\text{$x$는 0과 1로만 이루어진 문자열},~|x|>0\\right\\}\n",
    "         = \\left\\{xx^R \\mid x\\in\\{0,1\\}^{*}, |x|>0 \\right\\}\n",
    "         = \\left\\{xx^R \\mid x\\in\\{0,1\\}^{+} \\right\\}$\n",
    "    * $D = \\{a^n b^n c^n \\mid n\\in\\mathbb{N}, n\\ge 0\\} = \\{a^n b^n c^n \\mid n\\ge 0\\}$"
   ]
  },
  {
   "cell_type": "markdown",
   "metadata": {
    "collapsed": false
   },
   "source": [
    "하스켈(Haskell)로 $n$이 1,2,3인 경우에 대해 $a^nb^nc^n$을 아래와 같이 계산해 볼 수 있다."
   ]
  },
  {
   "cell_type": "code",
   "execution_count": 4,
   "metadata": {
    "collapsed": false
   },
   "outputs": [
    {
     "data": {
      "text/plain": [
       "\"abc\""
      ]
     },
     "execution_count": 4,
     "metadata": {
     },
     "output_type": "execute_result"
    },
    {
     "data": {
      "text/plain": [
       "\"aabbcc\""
      ]
     },
     "execution_count": 4,
     "metadata": {
     },
     "output_type": "execute_result"
    },
    {
     "data": {
      "text/plain": [
       "\"aaabbbccc\""
      ]
     },
     "execution_count": 4,
     "metadata": {
     },
     "output_type": "execute_result"
    }
   ],
   "source": [
    "\"a\".^1 ++ \"b\".^1 ++ \"c\".^1\n",
    "\"a\".^2 ++ \"b\".^2 ++ \"c\".^2\n",
    "\"a\".^3 ++ \"b\".^3 ++ \"c\".^3"
   ]
  },
  {
   "cell_type": "markdown",
   "metadata": {
    "collapsed": false
   },
   "source": [
    "하스켈로 집합 $D$를 조건제시법으로 다음과 같이 정의할 수 있다.\n",
    "집합 $D$를 정의하기에 앞서 하스켈로 $\\mathbb{N}$을 원소나열법으로 정의하였다."
   ]
  },
  {
   "cell_type": "code",
   "execution_count": 5,
   "metadata": {
    "collapsed": false
   },
   "outputs": [
   ],
   "source": [
    "_N = [0,1..]\n",
    "_D = [\"a\".^n ++ \"b\".^n ++ \"c\".^n | n <- _N, n >= 0]"
   ]
  },
  {
   "cell_type": "markdown",
   "metadata": {
    "collapsed": false
   },
   "source": [
    "하스켈로 $\\mathbb{N}$이나 $D$같은 무한집합 전체를 다 계산해 내려면 계산이 끝나지 않는다. 그래서 맨 앞의 원소 몇개만 살펴보는 하스켈 프로그램을 다음과 같이 작성할 수 있다."
   ]
  },
  {
   "cell_type": "code",
   "execution_count": 6,
   "metadata": {
    "collapsed": false
   },
   "outputs": [
    {
     "data": {
      "text/plain": [
       "[0,1,2]"
      ]
     },
     "execution_count": 6,
     "metadata": {
     },
     "output_type": "execute_result"
    },
    {
     "data": {
      "text/plain": [
       "[0,1,2,3,4]"
      ]
     },
     "execution_count": 6,
     "metadata": {
     },
     "output_type": "execute_result"
    },
    {
     "data": {
      "text/plain": [
       "[\"\",\"abc\",\"aabbcc\"]"
      ]
     },
     "execution_count": 6,
     "metadata": {
     },
     "output_type": "execute_result"
    },
    {
     "data": {
      "text/plain": [
       "[\"\",\"abc\",\"aabbcc\",\"aaabbbccc\",\"aaaabbbbcccc\"]"
      ]
     },
     "execution_count": 6,
     "metadata": {
     },
     "output_type": "execute_result"
    }
   ],
   "source": [
    "take 3 _N\n",
    "take 5 _N\n",
    "take 3 _D\n",
    "take 5 _D"
   ]
  },
  {
   "cell_type": "markdown",
   "metadata": {
    "collapsed": false
   },
   "source": [
    "----\n",
    "##### 문자열 집합 연산(operations on sets of strings)\n",
    "$A = \\{aa, ab, abc\\}$, $B = \\{aa, bc\\}$에 대한 집합연산(set operations)으로 다음과 같은 것들이 있다.\n",
    "* 합집합(union): $A \\cup B = \\{aa, ab, bc, abc\\}$\n",
    "* 교집합(intersection): $A \\cap B = \\{aa\\}$\n",
    "* 차집합(subtraction):\n",
    "    * $A - B = \\{aa, abc\\}$, $B - A = \\{bc\\}$\n",
    "    * $A \\setminus B = \\{aa, abc\\}$, $B \\setminus A = \\{bc\\}$\n",
    "* 배타적 합집합(exclusive union) 또는 대칭적 차집합(symmetric difference)\n",
    "    * $A \\oplus B = \\{aa, abc\\}$\n",
    "    * $A \\mathop{\\triangle} B = \\{aa, abc\\}$\n",
    "* 곱집합(product):\n",
    "  $A \\cdot \\textcolor{red}{B}\n",
    "    = A \\, \\textcolor{red}{B}\n",
    "    = \\{aa\\textcolor{red}{aa}, aa\\textcolor{red}{bc},\n",
    "        ab\\textcolor{red}{aa}, ab\\textcolor{red}{bc},\n",
    "        abc\\textcolor{red}{aa}, abc\\textcolor{red}{bc}\\}$\n",
    "* 여집합(complement):\n",
    "  $\\Sigma$는 사용 가능한 모든 기호(symbol)의 집합을 나타낸다.\n",
    "  $\\Sigma = \\{a,b,c\\}$라 할 때, $A$의 여집합 $\\overline{A} = \\Sigma^{*} - A = \\{a,b,c\\}^{*} - \\{aa,ab,abc\\}$"
   ]
  },
  {
   "cell_type": "markdown",
   "metadata": {
    "collapsed": false
   },
   "source": [
    "하스켈로 합집합, 교집합, 차집합을 다음과 같이 계산한다."
   ]
  },
  {
   "cell_type": "code",
   "execution_count": 10,
   "metadata": {
    "collapsed": false,
    "scrolled": true
   },
   "outputs": [
    {
     "data": {
      "text/plain": [
       "[\"aa\",\"ab\",\"abc\",\"bc\"]"
      ]
     },
     "execution_count": 10,
     "metadata": {
     },
     "output_type": "execute_result"
    },
    {
     "data": {
      "text/plain": [
       "[\"aa\"]"
      ]
     },
     "execution_count": 10,
     "metadata": {
     },
     "output_type": "execute_result"
    },
    {
     "data": {
      "text/plain": [
       "[\"ab\",\"abc\"]"
      ]
     },
     "execution_count": 10,
     "metadata": {
     },
     "output_type": "execute_result"
    },
    {
     "data": {
      "text/plain": [
       "[\"bc\"]"
      ]
     },
     "execution_count": 10,
     "metadata": {
     },
     "output_type": "execute_result"
    }
   ],
   "source": [
    "import Data.List\n",
    "\n",
    "_A = [\"aa\",\"ab\",\"abc\"]\n",
    "_B = [\"aa\",\"bc\"]\n",
    "\n",
    "_A `union` _B\n",
    "_A `intersect` _B\n",
    "_A \\\\ _B\n",
    "_B \\\\ _A"
   ]
  },
  {
   "cell_type": "markdown",
   "metadata": {
    "collapsed": false
   },
   "source": [
    "하스켈로 배타적 합집합(대칭적 차집합)을 다음과 같이 두 가지 방식으로 계산해 볼 수 있다."
   ]
  },
  {
   "cell_type": "code",
   "execution_count": 11,
   "metadata": {
    "collapsed": false
   },
   "outputs": [
    {
     "data": {
      "text/plain": [
       "[\"ab\",\"abc\",\"bc\"]"
      ]
     },
     "execution_count": 11,
     "metadata": {
     },
     "output_type": "execute_result"
    },
    {
     "data": {
      "text/plain": [
       "[\"ab\",\"abc\",\"bc\"]"
      ]
     },
     "execution_count": 11,
     "metadata": {
     },
     "output_type": "execute_result"
    }
   ],
   "source": [
    "(_A `union` _B) \\\\ (_A `intersect` _B)\n",
    "(_A \\\\ _B) `union` (_B \\\\ _A)"
   ]
  },
  {
   "cell_type": "markdown",
   "metadata": {
    "collapsed": false
   },
   "source": [
    "하스켈로 곱집합을 다음과 같이 계산해 볼 수 있다."
   ]
  },
  {
   "cell_type": "code",
   "execution_count": 12,
   "metadata": {
    "collapsed": false
   },
   "outputs": [
    {
     "data": {
      "text/plain": [
       "[\"aaaa\",\"aabc\",\"abaa\",\"abbc\",\"abcaa\",\"abcbc\"]"
      ]
     },
     "execution_count": 12,
     "metadata": {
     },
     "output_type": "execute_result"
    }
   ],
   "source": [
    "[x ++ y | x <- _A, y <- _B]"
   ]
  },
  {
   "cell_type": "markdown",
   "metadata": {
    "collapsed": false
   },
   "source": [
    "아래와 같이 하스켈로 $A$의 여집합(complement) 앞부분 일부, 좀더 자세히는 $A$의 여집합 중 길이 3이하인 문자열로 이루어진 집합을 계산해 볼 수 있다."
   ]
  },
  {
   "cell_type": "code",
   "execution_count": 13,
   "metadata": {
    "collapsed": false
   },
   "outputs": [
   ],
   "source": [
    "_Σ = [\"a\",\"b\",\"c\"]\n",
    "\n",
    "_Σ0 = [ε]\n",
    "_Σ1 = _Σ\n",
    "_Σ2 = [x ++ y | x <- _Σ, y <- _Σ1]\n",
    "_Σ3 = [x ++ y | x <- _Σ, y <- _Σ2]"
   ]
  },
  {
   "cell_type": "code",
   "execution_count": 14,
   "metadata": {
    "collapsed": false
   },
   "outputs": [
    {
     "data": {
      "text/plain": [
       "[\"\"]"
      ]
     },
     "execution_count": 14,
     "metadata": {
     },
     "output_type": "execute_result"
    },
    {
     "data": {
      "text/plain": [
       "[\"a\",\"b\",\"c\"]"
      ]
     },
     "execution_count": 14,
     "metadata": {
     },
     "output_type": "execute_result"
    },
    {
     "data": {
      "text/plain": [
       "[\"aa\",\"ab\",\"ac\",\"ba\",\"bb\",\"bc\",\"ca\",\"cb\",\"cc\"]"
      ]
     },
     "execution_count": 14,
     "metadata": {
     },
     "output_type": "execute_result"
    },
    {
     "data": {
      "text/plain": [
       "[\"aaa\",\"aab\",\"aac\",\"aba\",\"abb\",\"abc\",\"aca\",\"acb\",\"acc\",\"baa\",\"bab\",\"bac\",\"bba\",\"bbb\",\"bbc\",\"bca\",\"bcb\",\"bcc\",\"caa\",\"cab\",\"cac\",\"cba\",\"cbb\",\"cbc\",\"cca\",\"ccb\",\"ccc\"]"
      ]
     },
     "execution_count": 14,
     "metadata": {
     },
     "output_type": "execute_result"
    }
   ],
   "source": [
    "_Σ0\n",
    "_Σ1\n",
    "_Σ2\n",
    "_Σ3"
   ]
  },
  {
   "cell_type": "code",
   "execution_count": 64,
   "metadata": {
    "collapsed": false
   },
   "outputs": [
    {
     "data": {
      "text/plain": [
       "[\"\",\"a\",\"b\",\"c\",\"ac\",\"ba\",\"bb\",\"bc\",\"ca\",\"cb\",\"cc\",\"aaa\",\"aab\",\"aac\",\"aba\",\"abb\",\"aca\",\"acb\",\"acc\",\"baa\",\"bab\",\"bac\",\"bba\",\"bbb\",\"bbc\",\"bca\",\"bcb\",\"bcc\",\"caa\",\"cab\",\"cac\",\"cba\",\"cbb\",\"cbc\",\"cca\",\"ccb\",\"ccc\"]"
      ]
     },
     "execution_count": 64,
     "metadata": {
     },
     "output_type": "execute_result"
    }
   ],
   "source": [
    "(_Σ0 `union` _Σ1 `union` _Σ2 `union` _Σ3) \\\\ _A"
   ]
  },
  {
   "cell_type": "markdown",
   "metadata": {
    "collapsed": false
   },
   "source": [
    "위에서 계산된 집합에 $\\Sigma$로부터 만들어낼 수 있는 길이 4이상의 모든 문자열을 추가한 집합이 바로 $\\overline{A}$이다."
   ]
  },
  {
   "cell_type": "markdown",
   "metadata": {
    "collapsed": false
   },
   "source": [
    "추가로 두 가지 닫힘(closure) 연산에 대해 알아보자.\n",
    "\n",
    "* 클리니 닫힘(Kleene closure) 혹은 반사 전이 닫힘(reflexive transitive closure):\n",
    "  $A$의 클리니 닫힘 $A^*$는 $A$에 속한 문자열을 임의의 회수(0회 포함)만큼 선택하여 (같은 문자열 여러 번 선택 가능) 이어붙여(concatenate) 만들 수 있는 모든 문자열의 집합을 나타낸다.\n",
    "* 전이 닫힘(transitive closure)\n",
    "  $A$의 전이 닫힘 $A^+$는 $A$에 속한 문자열을 1회 이상 임의의 회수만큼 선택하여 (같은 문자열 여러 번 선택 가능) 이어붙여(concatenate) 만들 수 있는 모든 문자열의 집합을 나타낸다. 즉, $A^+ = A^* - \\{\\varepsilon\\}$\n",
    "\n",
    "마지막으로 멱집합에 대해 알아보자.\n",
    "* 멱집합(powerset) 혹은 지수집합: $2^A$는 $A$의 모든 부분집합으로 이루어진 집합이다.\n",
    "\n",
    "보기(example): $2^{\\{a,b,c\\}} = \\{\\varnothing, \\{a\\}, \\{b\\}, \\{a,b\\}, \\{a,c\\}, \\{b,c\\}, \\{a,b,c\\}\\}$"
   ]
  },
  {
   "cell_type": "code",
   "execution_count": 15,
   "metadata": {
    "collapsed": false
   },
   "outputs": [
   ],
   "source": [
    "-- 멱집합을 계산하는 하스켈 프로그램도 작성해 볼 수 있지만 그것은 조금 더 많은 함수형 프로그래밍 배경지식이 필요하므로 기회가 되면 다시 해보겠습니다."
   ]
  },
  {
   "cell_type": "markdown",
   "metadata": {
    "collapsed": false
   },
   "source": [
    "## 1.2 증명법(Proof Techniques)\n",
    "책에 있는 내용을 따라가도록 하겠습니다."
   ]
  },
  {
   "cell_type": "code",
   "execution_count": 0,
   "metadata": {
    "collapsed": false
   },
   "outputs": [
   ],
   "source": [
   ]
  }
 ],
 "metadata": {
  "kernelspec": {
   "display_name": "Haskell",
   "language": "haskell",
   "name": "haskell"
  },
  "language_info": {
   "codemirror_mode": "ihaskell",
   "file_extension": ".hs",
   "name": "haskell",
   "version": "8.4.2"
  }
 },
 "nbformat": 4,
 "nbformat_minor": 0
}