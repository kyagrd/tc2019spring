{
 "cells": [
  {
   "cell_type": "markdown",
   "metadata": {
    "collapsed": false
   },
   "source": [
    "# 05 Nondeterminisitc 비결정적\n",
    "\n",
    "DFA와 NFA를 비교하여 생각해 보기로 하자.\n",
    "\n",
    "DFA와 NFA모두 $(Q,\\Sigma,q_0, \\delta, F)$의 다섯순서쌍(5-tuple)로 표현된다는 점에서는 같지만\n",
    "DFA와 NFA의 차이는 전이함수인 $\\delta$의 형식이 다르다는 점이다.\n",
    "\n",
    " * $\\delta : Q\\times \\Sigma \\to \\Sigma$ $\\qquad\\qquad\\qquad$ DFA의 전이함수\n",
    " * $\\delta : Q\\times (\\Sigma\\cup\\{\\varepsilon\\}) \\to 2^Q$ $\\qquad$ $\\varepsilon$전이를 허용하는 NFA의 전이함수\n",
    " * $\\delta : Q\\times \\Sigma \\to 2^Q$ $\\qquad~\\quad\\qquad$ $\\varepsilon$전이가 없는 NFA의 전이함수\n",
    "\n",
    "책에는 $\\varepsilon$전이를 허용하는 NFA를 중심으로 설명하지만 $\\varepsilon$이 없는 경우에 설명하기가 간단한 부분이 많기 때문에\n",
    "책과는 달리 $\\varepsilon$전이가 없는 NFA를 중심으로 설명을 진행하겠다.\n",
    "\n",
    "Haskell 코드에서는 $Q=\\{q_0,q_1,\\ldots\\}$ 대신 그냥 정수 타입은 `Int`를 쓰고 $\\Sigma$대신 컴퓨터 프로그래밍 언어에서 제공하는 문자 타입인 `Char`를 쓰기로 정해 놓고 진행하므로\n",
    "다섯순서쌍 중 앞으 둘을 빼고 나머지 세 항목의 정보, 즉 시작 상태, 전이함수, 그리고 종료상태만 나타내면 된다.\n",
    "그리고 Haskell 코드에서는 시작상태를 전이함수에서 사용되는 상태들 중에 최소값으로 하기로 규칙을 정하도록 하자.\n",
    "그러니까 상태를 0,1,2,3,4 이렇게 다섯개를 쓴다면 시작 상태는 0으로 하고 1,2,3 이렇게 세 개를 쓴다면 시작 상태는 1로 하기로 한다는 말이다."
   ]
  },
  {
   "cell_type": "code",
   "execution_count": 4,
   "metadata": {
    "collapsed": false
   },
   "outputs": [
   ],
   "source": [
    "type Q     = Int\n",
    "type Sigma = Char\n",
    "type NFA   = (Int, Delta, [Int])\n",
    "type Delta = [(Q,Sigma,Q)]"
   ]
  },
  {
   "cell_type": "markdown",
   "metadata": {
    "collapsed": false
   },
   "source": [
    "DFA의 타입을 굳이 따로 정의하지 않는 이유는 NFA가 DFA를 정의를 포함하는 것으로 볼 수 있기 때문이다.\n",
    "\n",
    "즉, NFA의 전이함수가 모든 $q\\in Q$, $c\\in\\Sigma$에 대해 $|\\delta(q,c)|\\le1$를 만족하면 DFA인 것이다."
   ]
  },
  {
   "cell_type": "code",
   "execution_count": 5,
   "metadata": {
    "collapsed": false
   },
   "outputs": [
   ],
   "source": [
    "import Data.List\n",
    "\n",
    "isDFA :: NFA -> Bool\n",
    "isDFA (_,d,_)= all ((<= 1) . length) (groupBy (\\(q1,c1,_) (q2,c2,_) -> (q1,c1)==(q2,c2)) d)"
   ]
  },
  {
   "cell_type": "code",
   "execution_count": 11,
   "metadata": {
    "collapsed": false
   },
   "outputs": [
    {
     "data": {
      "text/plain": [
       "[(0,'a',1)]\n",
       "[(0,'b',2)]\n",
       "[(2,'a',1)]"
      ]
     },
     "execution_count": 11,
     "metadata": {
     },
     "output_type": "execute_result"
    },
    {
     "data": {
      "text/plain": [
       "True"
      ]
     },
     "execution_count": 11,
     "metadata": {
     },
     "output_type": "execute_result"
    },
    {
     "data": {
      "text/plain": [
       "[(0,'a',1),(0,'a',2)]\n",
       "[(1,'b',1)]"
      ]
     },
     "execution_count": 11,
     "metadata": {
     },
     "output_type": "execute_result"
    },
    {
     "data": {
      "text/plain": [
       "False"
      ]
     },
     "execution_count": 11,
     "metadata": {
     },
     "output_type": "execute_result"
    }
   ],
   "source": [
    "d3 = [(0,'a',1),(0,'b',2),(2,'a',1)] -- DFA의 성질을 만족하는 전이함수\n",
    "d4 = [(0,'a',1),(0,'a',2),(1,'b',1)] -- DFA의 성질을 만족하는 전이함수\n",
    "nfa3 = (0, d3, [1])\n",
    "nfa4 = (0, d4, [1])\n",
    "\n",
    "mapM_ print $ groupBy (\\(q1,c1,_) (q2,c2,_) -> (q1,c1)==(q2,c2)) d3\n",
    "isDFA nfa3\n",
    "\n",
    "mapM_ print $ groupBy (\\(q1,c1,_) (q2,c2,_) -> (q1,c1)==(q2,c2)) d4\n",
    "isDFA nfa4"
   ]
  },
  {
   "cell_type": "markdown",
   "metadata": {
    "collapsed": false
   },
   "source": [
    "그러면 어떤 $x$라는 문자열(String)이 주어졌을 때 NFA가 이 언어를 받아들이는지 받아들이지 않는지 판별하는 프로그램을 작성해 보자.\n",
    "지난 수업시간에 질문이 나와서 설명했던 $\\hat\\delta$ 함수를 Haskell 프로그램으로 작성하기만 하면 거의 다 된 것이다.\n",
    "왜냐하면 $\\hat{\\delta}(q_0,x)$의 결과가 $F$와 교집합을 갖는지만 검사하면 되기 때문이다.\n",
    "\n",
    "일단 주어진 NFA로부터 순서쌍 리스트의 형태로 저장된 전이함수를 실제 함수 $\\delta$로 변환하는 하스켈 프로그램을 작성하고\n",
    "그것을 바탕으로 $\\hat\\delta$ 함수를 Haskell로 작성해 보자."
   ]
  },
  {
   "cell_type": "code",
   "execution_count": 12,
   "metadata": {
    "collapsed": false
   },
   "outputs": [
   ],
   "source": [
    "delta :: NFA -> (Q,Sigma) -> [Q]\n",
    "delta (_,d,_) (q,c)= [p1 | (q1,c1,p1)<-d, (q,c)==(q1,c1)]\n",
    "\n",
    "hat :: ( (Q,Sigma) -> [Q] ) -> (Q,String) -> [Q]\n",
    "hat f (q, \"\" ) = [q]\n",
    "hat f (q, a:y) = [p | q1 <- f(q,a), p <- hat f (q1,y) ]"
   ]
  },
  {
   "cell_type": "markdown",
   "metadata": {
    "collapsed": false
   },
   "source": [
    "$\\displaystyle\\big\\{xaa \\mid x\\in\\{a,b\\}^{*}\\big\\}$"
   ]
  },
  {
   "cell_type": "code",
   "execution_count": 31,
   "metadata": {
    "collapsed": false
   },
   "outputs": [
    {
     "data": {
      "text/html": [
       "<style>/* Styles used for the Hoogle display in the pager */\n",
       ".hoogle-doc {\n",
       "display: block;\n",
       "padding-bottom: 1.3em;\n",
       "padding-left: 0.4em;\n",
       "}\n",
       ".hoogle-code {\n",
       "display: block;\n",
       "font-family: monospace;\n",
       "white-space: pre;\n",
       "}\n",
       ".hoogle-text {\n",
       "display: block;\n",
       "}\n",
       ".hoogle-name {\n",
       "color: green;\n",
       "font-weight: bold;\n",
       "}\n",
       ".hoogle-head {\n",
       "font-weight: bold;\n",
       "}\n",
       ".hoogle-sub {\n",
       "display: block;\n",
       "margin-left: 0.4em;\n",
       "}\n",
       ".hoogle-package {\n",
       "font-weight: bold;\n",
       "font-style: italic;\n",
       "}\n",
       ".hoogle-module {\n",
       "font-weight: bold;\n",
       "}\n",
       ".hoogle-class {\n",
       "font-weight: bold;\n",
       "}\n",
       ".get-type {\n",
       "color: green;\n",
       "font-weight: bold;\n",
       "font-family: monospace;\n",
       "display: block;\n",
       "white-space: pre-wrap;\n",
       "}\n",
       ".show-type {\n",
       "color: green;\n",
       "font-weight: bold;\n",
       "font-family: monospace;\n",
       "margin-left: 1em;\n",
       "}\n",
       ".mono {\n",
       "font-family: monospace;\n",
       "display: block;\n",
       "}\n",
       ".err-msg {\n",
       "color: red;\n",
       "font-style: italic;\n",
       "font-family: monospace;\n",
       "white-space: pre;\n",
       "display: block;\n",
       "}\n",
       "#unshowable {\n",
       "color: red;\n",
       "font-weight: bold;\n",
       "}\n",
       ".err-msg.in.collapse {\n",
       "padding-top: 0.7em;\n",
       "}\n",
       ".highlight-code {\n",
       "white-space: pre;\n",
       "font-family: monospace;\n",
       "}\n",
       ".suggestion-warning { \n",
       "font-weight: bold;\n",
       "color: rgb(200, 130, 0);\n",
       "}\n",
       ".suggestion-error { \n",
       "font-weight: bold;\n",
       "color: red;\n",
       "}\n",
       ".suggestion-name {\n",
       "font-weight: bold;\n",
       "}\n",
       "</style><span class='get-type'>δ1 :: (Q, Sigma) -> [Q]</span>"
      ],
      "text/plain": [
       "δ1 :: (Q, Sigma) -> [Q]"
      ]
     },
     "execution_count": 31,
     "metadata": {
     },
     "output_type": "execute_result"
    },
    {
     "data": {
      "text/html": [
       "<style>/* Styles used for the Hoogle display in the pager */\n",
       ".hoogle-doc {\n",
       "display: block;\n",
       "padding-bottom: 1.3em;\n",
       "padding-left: 0.4em;\n",
       "}\n",
       ".hoogle-code {\n",
       "display: block;\n",
       "font-family: monospace;\n",
       "white-space: pre;\n",
       "}\n",
       ".hoogle-text {\n",
       "display: block;\n",
       "}\n",
       ".hoogle-name {\n",
       "color: green;\n",
       "font-weight: bold;\n",
       "}\n",
       ".hoogle-head {\n",
       "font-weight: bold;\n",
       "}\n",
       ".hoogle-sub {\n",
       "display: block;\n",
       "margin-left: 0.4em;\n",
       "}\n",
       ".hoogle-package {\n",
       "font-weight: bold;\n",
       "font-style: italic;\n",
       "}\n",
       ".hoogle-module {\n",
       "font-weight: bold;\n",
       "}\n",
       ".hoogle-class {\n",
       "font-weight: bold;\n",
       "}\n",
       ".get-type {\n",
       "color: green;\n",
       "font-weight: bold;\n",
       "font-family: monospace;\n",
       "display: block;\n",
       "white-space: pre-wrap;\n",
       "}\n",
       ".show-type {\n",
       "color: green;\n",
       "font-weight: bold;\n",
       "font-family: monospace;\n",
       "margin-left: 1em;\n",
       "}\n",
       ".mono {\n",
       "font-family: monospace;\n",
       "display: block;\n",
       "}\n",
       ".err-msg {\n",
       "color: red;\n",
       "font-style: italic;\n",
       "font-family: monospace;\n",
       "white-space: pre;\n",
       "display: block;\n",
       "}\n",
       "#unshowable {\n",
       "color: red;\n",
       "font-weight: bold;\n",
       "}\n",
       ".err-msg.in.collapse {\n",
       "padding-top: 0.7em;\n",
       "}\n",
       ".highlight-code {\n",
       "white-space: pre;\n",
       "font-family: monospace;\n",
       "}\n",
       ".suggestion-warning { \n",
       "font-weight: bold;\n",
       "color: rgb(200, 130, 0);\n",
       "}\n",
       ".suggestion-error { \n",
       "font-weight: bold;\n",
       "color: red;\n",
       "}\n",
       ".suggestion-name {\n",
       "font-weight: bold;\n",
       "}\n",
       "</style><span class='get-type'>δ1' :: (Q, String) -> [Q]</span>"
      ],
      "text/plain": [
       "δ1' :: (Q, String) -> [Q]"
      ]
     },
     "execution_count": 31,
     "metadata": {
     },
     "output_type": "execute_result"
    }
   ],
   "source": [
    "nfa1 = (1, d1, [3])\n",
    "d1 = [ (1,'a',1), (1,'b',1), (1,'a',2), (2,'a',3) ]\n",
    "\n",
    "δ1 = delta nfa1\n",
    ":type δ1\n",
    "\n",
    "δ1' = hat δ1\n",
    ":type δ1'"
   ]
  },
  {
   "cell_type": "code",
   "execution_count": 32,
   "metadata": {
    "collapsed": false
   },
   "outputs": [
    {
     "data": {
      "text/plain": [
       "[1,2]"
      ]
     },
     "execution_count": 32,
     "metadata": {
     },
     "output_type": "execute_result"
    },
    {
     "data": {
      "text/plain": [
       "[1,2]"
      ]
     },
     "execution_count": 32,
     "metadata": {
     },
     "output_type": "execute_result"
    },
    {
     "data": {
      "text/plain": [
       "[1,2,3]"
      ]
     },
     "execution_count": 32,
     "metadata": {
     },
     "output_type": "execute_result"
    },
    {
     "data": {
      "text/plain": [
       "[1]"
      ]
     },
     "execution_count": 32,
     "metadata": {
     },
     "output_type": "execute_result"
    },
    {
     "data": {
      "text/plain": [
       "[1,2]"
      ]
     },
     "execution_count": 32,
     "metadata": {
     },
     "output_type": "execute_result"
    },
    {
     "data": {
      "text/plain": [
       "[1,2,3]"
      ]
     },
     "execution_count": 32,
     "metadata": {
     },
     "output_type": "execute_result"
    }
   ],
   "source": [
    "δ1(1,'a')\n",
    "\n",
    "δ1'(1,\"a\")\n",
    "δ1'(1,\"aa\")\n",
    "δ1'(1,\"ab\")\n",
    "δ1'(1,\"aba\")\n",
    "δ1'(1,\"abaa\")"
   ]
  },
  {
   "cell_type": "code",
   "execution_count": 36,
   "metadata": {
    "collapsed": false
   },
   "outputs": [
   ],
   "source": [
    "import Data.List\n",
    "\n",
    "accepts (q0, d, fs) x = (δ'(q0,x) `intersect` fs) /= []\n",
    "  where\n",
    "    δ  = delta (q0, d, fs)\n",
    "    δ' = hat δ"
   ]
  },
  {
   "cell_type": "code",
   "execution_count": 37,
   "metadata": {
    "collapsed": false
   },
   "outputs": [
    {
     "data": {
      "text/plain": [
       "False"
      ]
     },
     "execution_count": 37,
     "metadata": {
     },
     "output_type": "execute_result"
    },
    {
     "data": {
      "text/plain": [
       "True"
      ]
     },
     "execution_count": 37,
     "metadata": {
     },
     "output_type": "execute_result"
    },
    {
     "data": {
      "text/plain": [
       "False"
      ]
     },
     "execution_count": 37,
     "metadata": {
     },
     "output_type": "execute_result"
    },
    {
     "data": {
      "text/plain": [
       "False"
      ]
     },
     "execution_count": 37,
     "metadata": {
     },
     "output_type": "execute_result"
    },
    {
     "data": {
      "text/plain": [
       "True"
      ]
     },
     "execution_count": 37,
     "metadata": {
     },
     "output_type": "execute_result"
    }
   ],
   "source": [
    "nfa1 `accepts` \"a\"\n",
    "nfa1 `accepts` \"aa\"\n",
    "nfa1 `accepts` \"ab\"\n",
    "nfa1 `accepts` \"aba\"\n",
    "nfa1 `accepts` \"abaa\""
   ]
  },
  {
   "cell_type": "markdown",
   "metadata": {
    "collapsed": false
   },
   "source": [
    "$\\displaystyle\\big\\{xaaybbz \\mid x,y,z\\in\\{a,b\\}^{*} \\big\\}$"
   ]
  },
  {
   "cell_type": "code",
   "execution_count": 0,
   "metadata": {
    "collapsed": false
   },
   "outputs": [
   ],
   "source": [
   ]
  }
 ],
 "metadata": {
  "kernelspec": {
   "display_name": "Haskell",
   "language": "haskell",
   "name": "haskell"
  },
  "language_info": {
   "codemirror_mode": "ihaskell",
   "file_extension": ".hs",
   "name": "haskell",
   "version": "8.4.2"
  }
 },
 "nbformat": 4,
 "nbformat_minor": 0
}