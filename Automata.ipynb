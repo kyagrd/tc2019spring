{
 "cells": [
  {
   "cell_type": "markdown",
   "metadata": {
    "collapsed": false
   },
   "source": [
    "# 04 Automata\n",
    "\n",
    "DTM의 상태를 $q_0$, $q_1$, $q_2$라고 책에서 표시하지만\n",
    "Haskell 프로그램에서는 그냥 0,1,2 정수로 구분해서 표시하겠다.\n",
    "그러면 심볼도 0과 1이라고 하면 헷갈리니까 a와 b로 해서\n",
    "$\\{a^nb^n \\mid n>0 \\}$ 언어를 인식하는 DTM을 만들어 보자.\n",
    "그리고 헤더의 위치도 테입의 어느 칸에 위치하는지도 그림이 아니라 정수 인덱스로 나타내겠다.\n",
    "처음에 0번 인덱스 칸에서 시작하고 왼쪽으로는 음의 정수 오른쪽으로는 양의 정수 인덱스로 나간다."
   ]
  },
  {
   "cell_type": "code",
   "execution_count": 16,
   "metadata": {
    "collapsed": false
   },
   "outputs": [
    {
     "data": {
      "text/plain": [
       "fromList []"
      ]
     },
     "execution_count": 16,
     "metadata": {
     },
     "output_type": "execute_result"
    },
    {
     "data": {
      "text/plain": [
       "fromList [(1,'a'),(2,'a'),(3,'b'),(4,'b')]"
      ]
     },
     "execution_count": 16,
     "metadata": {
     },
     "output_type": "execute_result"
    },
    {
     "data": {
      "text/plain": [
       "\"aabb\""
      ]
     },
     "execution_count": 16,
     "metadata": {
     },
     "output_type": "execute_result"
    }
   ],
   "source": [
    "import Data.Map\n",
    "\n",
    "empty -- 비어있는 무한히 긴 테입을 나타낸다\n",
    "\n",
    "tape1 = fromList $ zip [1..] \"aabb\" -- 테입을 1번 칸에서 시작해서 aabb로 초기화\n",
    "\n",
    "tape1\n",
    "elems tape1"
   ]
  },
  {
   "cell_type": "code",
   "execution_count": 17,
   "metadata": {
    "collapsed": false
   },
   "outputs": [
    {
     "data": {
      "text/plain": [
       "fromList [(0,'a'),(1,'a'),(2,'a'),(3,'b'),(4,'b')]"
      ]
     },
     "execution_count": 17,
     "metadata": {
     },
     "output_type": "execute_result"
    },
    {
     "data": {
      "text/plain": [
       "\"aaabb\""
      ]
     },
     "execution_count": 17,
     "metadata": {
     },
     "output_type": "execute_result"
    }
   ],
   "source": [
    "tape2 = insert 0 'a' tape1\n",
    "tape2\n",
    "elems tape2"
   ]
  },
  {
   "cell_type": "code",
   "execution_count": 18,
   "metadata": {
    "collapsed": false
   },
   "outputs": [
    {
     "data": {
      "text/plain": [
       "fromList [(0,'a'),(1,'a'),(2,'a'),(3,'b'),(4,'b'),(5,'b')]"
      ]
     },
     "execution_count": 18,
     "metadata": {
     },
     "output_type": "execute_result"
    },
    {
     "data": {
      "text/plain": [
       "\"aaabbb\""
      ]
     },
     "execution_count": 18,
     "metadata": {
     },
     "output_type": "execute_result"
    }
   ],
   "source": [
    "tape3 = insert 5 'b' tape2\n",
    "\n",
    "tape3\n",
    "elems tape3"
   ]
  },
  {
   "cell_type": "code",
   "execution_count": 19,
   "metadata": {
    "collapsed": false
   },
   "outputs": [
    {
     "data": {
      "text/plain": [
       "fromList [(1,'a'),(2,'a'),(3,'b'),(4,'b')]"
      ]
     },
     "execution_count": 19,
     "metadata": {
     },
     "output_type": "execute_result"
    },
    {
     "data": {
      "text/plain": [
       "fromList [(0,'a'),(1,'a'),(2,'a'),(3,'b'),(4,'b')]"
      ]
     },
     "execution_count": 19,
     "metadata": {
     },
     "output_type": "execute_result"
    },
    {
     "data": {
      "text/plain": [
       "fromList [(0,'a'),(1,'a'),(2,'a'),(3,'b'),(4,'b'),(5,'b')]"
      ]
     },
     "execution_count": 19,
     "metadata": {
     },
     "output_type": "execute_result"
    },
    {
     "data": {
      "text/plain": [
       "fromList [(0,'c'),(1,'a'),(2,'a'),(3,'b'),(4,'b'),(5,'b')]"
      ]
     },
     "execution_count": 19,
     "metadata": {
     },
     "output_type": "execute_result"
    },
    {
     "data": {
      "text/plain": [
       "\"caabbb\""
      ]
     },
     "execution_count": 19,
     "metadata": {
     },
     "output_type": "execute_result"
    }
   ],
   "source": [
    "-- 직전 결과를 it이라고 지칭할 수 있다\n",
    "fromList $ zip [1..] \"aabb\"\n",
    "insert 0 'a' it\n",
    "insert 5 'b' it\n",
    "insert 0 'c' it\n",
    "elems it"
   ]
  },
  {
   "cell_type": "markdown",
   "metadata": {
    "collapsed": false
   },
   "source": [
    "이제 준비운동은 다 했으니 책에 나온대로 우리가 튜링머신처럼 한번 따라해 봅시다."
   ]
  },
  {
   "cell_type": "code",
   "execution_count": 20,
   "metadata": {
    "collapsed": false
   },
   "outputs": [
   ],
   "source": [
    "import Data.Map\n",
    "import qualified Data.Map as Map\n",
    "\n",
    "data Move = L | N | R deriving (Eq,Ord,Show)\n",
    "\n",
    "type Tape = Map Int Char\n",
    "\n",
    "type State = Int\n",
    "type Loc = Int\n",
    "\n",
    "type Delta = Map (State, Maybe Char) (State, Maybe Char, Move)\n",
    "\n",
    "type DTM = ( Int     -- 상태 최대값\n",
    "           , Delta   -- 전이 규칙\n",
    "           , Int     -- 최종 상태\n",
    "           )\n",
    "\n",
    "type Config = ( Int -- DTM 상태\n",
    "              , Int -- DTM 헤더 위치\n",
    "              , Tape\n",
    "              )"
   ]
  },
  {
   "cell_type": "code",
   "execution_count": 21,
   "metadata": {
    "collapsed": false
   },
   "outputs": [
   ],
   "source": [
    "-- a^nb^n 검사하는 튜링머신 정의\n",
    "anbnDTM = (5, anbnRules, 5)\n",
    "\n",
    "-- 결정적튜링머신 실행규칙\n",
    "anbnRules = fromList\n",
    "    [ ((0,a), (1,c,R))\n",
    "    , ((1,a), (1,a,R))\n",
    "    , ((1,b), (2,d,L))\n",
    "    , ((1,d), (1,d,R))\n",
    "    , ((2,a), (2,a,L))\n",
    "    , ((2,c), (3,c,R))\n",
    "    , ((2,d), (2,d,L))\n",
    "    , ((3,a), (1,c,R))\n",
    "    , ((3,d), (4,d,R))\n",
    "    , ((4,d), (4,d,R))\n",
    "    , ((4,n), (5,n,N))\n",
    "    ]\n",
    "\n",
    "a = Just 'a'\n",
    "b = Just 'b'\n",
    "x = Just 'X'\n",
    "y = Just 'Y'\n",
    "n = Nothing  -- 공백 기호 책에서는 B"
   ]
  },
  {
   "cell_type": "code",
   "execution_count": 22,
   "metadata": {
    "collapsed": false
   },
   "outputs": [
    {
     "data": {
      "text/plain": [
       "fromList [(0,'a'),(1,'a'),(2,'a'),(3,'b'),(4,'b'),(5,'b')]"
      ]
     },
     "execution_count": 22,
     "metadata": {
     },
     "output_type": "execute_result"
    },
    {
     "data": {
      "text/plain": [
       "\"aaabbb\""
      ]
     },
     "execution_count": 22,
     "metadata": {
     },
     "output_type": "execute_result"
    }
   ],
   "source": [
    "tape0 = fromList $ zip [0..] \"aaabbb\"\n",
    "-- 일단 이런 테입에서 튜링머신이 돌아가기 시작\n",
    "tape0\n",
    "elems tape0"
   ]
  },
  {
   "cell_type": "code",
   "execution_count": 23,
   "metadata": {
    "collapsed": false
   },
   "outputs": [
    {
     "data": {
      "text/plain": [
       "Nothing"
      ]
     },
     "execution_count": 23,
     "metadata": {
     },
     "output_type": "execute_result"
    },
    {
     "data": {
      "text/plain": [
       "Just 'a'"
      ]
     },
     "execution_count": 23,
     "metadata": {
     },
     "output_type": "execute_result"
    },
    {
     "data": {
      "text/plain": [
       "Just 'b'"
      ]
     },
     "execution_count": 23,
     "metadata": {
     },
     "output_type": "execute_result"
    },
    {
     "data": {
      "text/plain": [
       "Nothing"
      ]
     },
     "execution_count": 23,
     "metadata": {
     },
     "output_type": "execute_result"
    }
   ],
   "source": [
    "Map.lookup (-1) tape0\n",
    "Map.lookup    0 tape0\n",
    "Map.lookup    5 tape0\n",
    "Map.lookup    6 tape0"
   ]
  },
  {
   "cell_type": "code",
   "execution_count": 38,
   "metadata": {
    "collapsed": false
   },
   "outputs": [
   ],
   "source": [
    "-- 튜링머신 실행상태\n",
    "config0 = (0,0,tape0)\n",
    "\n",
    "move L i = i-1\n",
    "move N i = i\n",
    "move R i = i+1\n",
    "\n",
    "step :: DTM -> (State, Loc, Tape) -> (State, Loc, Tape)\n",
    "step (_,rules,_) (q, i, tp) = (q', move mv i, tp')\n",
    "  where\n",
    "  s = Map.lookup i tp  -- s는 테입의 i번째 인덱스 내용\n",
    "  Just (q', s', mv) = Map.lookup (q,s) rules\n",
    "  tp' = case s' of  Nothing -> tp\n",
    "                    Just ch -> insert i ch tp\n",
    "\n",
    "run dtm@(_,_,qf) = takeWhile (\\(q,_,_) -> q/=qf) . iterate (step dtm)"
   ]
  },
  {
   "cell_type": "code",
   "execution_count": 39,
   "metadata": {
    "collapsed": false
   },
   "outputs": [
    {
     "data": {
      "text/plain": [
       "(0,0,fromList [(0,'a'),(1,'a'),(2,'a'),(3,'b'),(4,'b'),(5,'b')])"
      ]
     },
     "execution_count": 39,
     "metadata": {
     },
     "output_type": "execute_result"
    },
    {
     "data": {
      "text/plain": [
       "(1,1,fromList [(0,'c'),(1,'a'),(2,'a'),(3,'b'),(4,'b'),(5,'b')])"
      ]
     },
     "execution_count": 39,
     "metadata": {
     },
     "output_type": "execute_result"
    },
    {
     "data": {
      "text/plain": [
       "(1,2,fromList [(0,'c'),(1,'a'),(2,'a'),(3,'b'),(4,'b'),(5,'b')])"
      ]
     },
     "execution_count": 39,
     "metadata": {
     },
     "output_type": "execute_result"
    },
    {
     "data": {
      "text/plain": [
       "(1,3,fromList [(0,'c'),(1,'a'),(2,'a'),(3,'b'),(4,'b'),(5,'b')])"
      ]
     },
     "execution_count": 39,
     "metadata": {
     },
     "output_type": "execute_result"
    },
    {
     "data": {
      "text/plain": [
       "(2,2,fromList [(0,'c'),(1,'a'),(2,'a'),(3,'d'),(4,'b'),(5,'b')])"
      ]
     },
     "execution_count": 39,
     "metadata": {
     },
     "output_type": "execute_result"
    },
    {
     "data": {
      "text/plain": [
       "(2,1,fromList [(0,'c'),(1,'a'),(2,'a'),(3,'d'),(4,'b'),(5,'b')])"
      ]
     },
     "execution_count": 39,
     "metadata": {
     },
     "output_type": "execute_result"
    },
    {
     "data": {
      "text/plain": [
       "(2,0,fromList [(0,'c'),(1,'a'),(2,'a'),(3,'d'),(4,'b'),(5,'b')])"
      ]
     },
     "execution_count": 39,
     "metadata": {
     },
     "output_type": "execute_result"
    },
    {
     "data": {
      "text/plain": [
       "(3,1,fromList [(0,'c'),(1,'a'),(2,'a'),(3,'d'),(4,'b'),(5,'b')])"
      ]
     },
     "execution_count": 39,
     "metadata": {
     },
     "output_type": "execute_result"
    },
    {
     "data": {
      "text/plain": [
       "(1,2,fromList [(0,'c'),(1,'c'),(2,'a'),(3,'d'),(4,'b'),(5,'b')])"
      ]
     },
     "execution_count": 39,
     "metadata": {
     },
     "output_type": "execute_result"
    },
    {
     "data": {
      "text/plain": [
       "(1,3,fromList [(0,'c'),(1,'c'),(2,'a'),(3,'d'),(4,'b'),(5,'b')])"
      ]
     },
     "execution_count": 39,
     "metadata": {
     },
     "output_type": "execute_result"
    },
    {
     "data": {
      "text/plain": [
       "(1,4,fromList [(0,'c'),(1,'c'),(2,'a'),(3,'d'),(4,'b'),(5,'b')])"
      ]
     },
     "execution_count": 39,
     "metadata": {
     },
     "output_type": "execute_result"
    },
    {
     "data": {
      "text/plain": [
       "(2,3,fromList [(0,'c'),(1,'c'),(2,'a'),(3,'d'),(4,'d'),(5,'b')])"
      ]
     },
     "execution_count": 39,
     "metadata": {
     },
     "output_type": "execute_result"
    },
    {
     "data": {
      "text/plain": [
       "(2,2,fromList [(0,'c'),(1,'c'),(2,'a'),(3,'d'),(4,'d'),(5,'b')])"
      ]
     },
     "execution_count": 39,
     "metadata": {
     },
     "output_type": "execute_result"
    },
    {
     "data": {
      "text/plain": [
       "(2,1,fromList [(0,'c'),(1,'c'),(2,'a'),(3,'d'),(4,'d'),(5,'b')])"
      ]
     },
     "execution_count": 39,
     "metadata": {
     },
     "output_type": "execute_result"
    },
    {
     "data": {
      "text/plain": [
       "(3,2,fromList [(0,'c'),(1,'c'),(2,'a'),(3,'d'),(4,'d'),(5,'b')])"
      ]
     },
     "execution_count": 39,
     "metadata": {
     },
     "output_type": "execute_result"
    },
    {
     "data": {
      "text/plain": [
       "(1,3,fromList [(0,'c'),(1,'c'),(2,'c'),(3,'d'),(4,'d'),(5,'b')])"
      ]
     },
     "execution_count": 39,
     "metadata": {
     },
     "output_type": "execute_result"
    },
    {
     "data": {
      "text/plain": [
       "(1,4,fromList [(0,'c'),(1,'c'),(2,'c'),(3,'d'),(4,'d'),(5,'b')])"
      ]
     },
     "execution_count": 39,
     "metadata": {
     },
     "output_type": "execute_result"
    },
    {
     "data": {
      "text/plain": [
       "(1,5,fromList [(0,'c'),(1,'c'),(2,'c'),(3,'d'),(4,'d'),(5,'b')])"
      ]
     },
     "execution_count": 39,
     "metadata": {
     },
     "output_type": "execute_result"
    },
    {
     "data": {
      "text/plain": [
       "(2,4,fromList [(0,'c'),(1,'c'),(2,'c'),(3,'d'),(4,'d'),(5,'d')])"
      ]
     },
     "execution_count": 39,
     "metadata": {
     },
     "output_type": "execute_result"
    },
    {
     "data": {
      "text/plain": [
       "(2,3,fromList [(0,'c'),(1,'c'),(2,'c'),(3,'d'),(4,'d'),(5,'d')])"
      ]
     },
     "execution_count": 39,
     "metadata": {
     },
     "output_type": "execute_result"
    },
    {
     "data": {
      "text/plain": [
       "(2,2,fromList [(0,'c'),(1,'c'),(2,'c'),(3,'d'),(4,'d'),(5,'d')])"
      ]
     },
     "execution_count": 39,
     "metadata": {
     },
     "output_type": "execute_result"
    },
    {
     "data": {
      "text/plain": [
       "(3,3,fromList [(0,'c'),(1,'c'),(2,'c'),(3,'d'),(4,'d'),(5,'d')])"
      ]
     },
     "execution_count": 39,
     "metadata": {
     },
     "output_type": "execute_result"
    },
    {
     "data": {
      "text/plain": [
       "(4,4,fromList [(0,'c'),(1,'c'),(2,'c'),(3,'d'),(4,'d'),(5,'d')])"
      ]
     },
     "execution_count": 39,
     "metadata": {
     },
     "output_type": "execute_result"
    },
    {
     "data": {
      "text/plain": [
       "(4,5,fromList [(0,'c'),(1,'c'),(2,'c'),(3,'d'),(4,'d'),(5,'d')])"
      ]
     },
     "execution_count": 39,
     "metadata": {
     },
     "output_type": "execute_result"
    },
    {
     "data": {
      "text/plain": [
       "(4,6,fromList [(0,'c'),(1,'c'),(2,'c'),(3,'d'),(4,'d'),(5,'d')])"
      ]
     },
     "execution_count": 39,
     "metadata": {
     },
     "output_type": "execute_result"
    },
    {
     "data": {
      "text/plain": [
       "(5,6,fromList [(0,'c'),(1,'c'),(2,'c'),(3,'d'),(4,'d'),(5,'d')])"
      ]
     },
     "execution_count": 39,
     "metadata": {
     },
     "output_type": "execute_result"
    }
   ],
   "source": [
    "config0\n",
    "step anbnDTM it\n",
    "step anbnDTM it\n",
    "step anbnDTM it\n",
    "step anbnDTM it\n",
    "step anbnDTM it\n",
    "step anbnDTM it\n",
    "step anbnDTM it\n",
    "step anbnDTM it\n",
    "step anbnDTM it\n",
    "step anbnDTM it\n",
    "step anbnDTM it\n",
    "step anbnDTM it\n",
    "step anbnDTM it\n",
    "step anbnDTM it\n",
    "step anbnDTM it\n",
    "step anbnDTM it\n",
    "step anbnDTM it\n",
    "step anbnDTM it\n",
    "step anbnDTM it\n",
    "step anbnDTM it\n",
    "step anbnDTM it\n",
    "step anbnDTM it\n",
    "step anbnDTM it\n",
    "step anbnDTM it\n",
    "step anbnDTM it"
   ]
  },
  {
   "cell_type": "code",
   "execution_count": 45,
   "metadata": {
    "collapsed": false
   },
   "outputs": [
    {
     "data": {
      "text/plain": [
       "[(0,0,fromList [(0,'a'),(1,'a'),(2,'a'),(3,'b'),(4,'b'),(5,'b')]),(1,1,fromList [(0,'c'),(1,'a'),(2,'a'),(3,'b'),(4,'b'),(5,'b')]),(1,2,fromList [(0,'c'),(1,'a'),(2,'a'),(3,'b'),(4,'b'),(5,'b')]),(1,3,fromList [(0,'c'),(1,'a'),(2,'a'),(3,'b'),(4,'b'),(5,'b')]),(2,2,fromList [(0,'c'),(1,'a'),(2,'a'),(3,'d'),(4,'b'),(5,'b')]),(2,1,fromList [(0,'c'),(1,'a'),(2,'a'),(3,'d'),(4,'b'),(5,'b')]),(2,0,fromList [(0,'c'),(1,'a'),(2,'a'),(3,'d'),(4,'b'),(5,'b')]),(3,1,fromList [(0,'c'),(1,'a'),(2,'a'),(3,'d'),(4,'b'),(5,'b')]),(1,2,fromList [(0,'c'),(1,'c'),(2,'a'),(3,'d'),(4,'b'),(5,'b')]),(1,3,fromList [(0,'c'),(1,'c'),(2,'a'),(3,'d'),(4,'b'),(5,'b')]),(1,4,fromList [(0,'c'),(1,'c'),(2,'a'),(3,'d'),(4,'b'),(5,'b')]),(2,3,fromList [(0,'c'),(1,'c'),(2,'a'),(3,'d'),(4,'d'),(5,'b')]),(2,2,fromList [(0,'c'),(1,'c'),(2,'a'),(3,'d'),(4,'d'),(5,'b')]),(2,1,fromList [(0,'c'),(1,'c'),(2,'a'),(3,'d'),(4,'d'),(5,'b')]),(3,2,fromList [(0,'c'),(1,'c'),(2,'a'),(3,'d'),(4,'d'),(5,'b')]),(1,3,fromList [(0,'c'),(1,'c'),(2,'c'),(3,'d'),(4,'d'),(5,'b')]),(1,4,fromList [(0,'c'),(1,'c'),(2,'c'),(3,'d'),(4,'d'),(5,'b')]),(1,5,fromList [(0,'c'),(1,'c'),(2,'c'),(3,'d'),(4,'d'),(5,'b')]),(2,4,fromList [(0,'c'),(1,'c'),(2,'c'),(3,'d'),(4,'d'),(5,'d')]),(2,3,fromList [(0,'c'),(1,'c'),(2,'c'),(3,'d'),(4,'d'),(5,'d')]),(2,2,fromList [(0,'c'),(1,'c'),(2,'c'),(3,'d'),(4,'d'),(5,'d')]),(3,3,fromList [(0,'c'),(1,'c'),(2,'c'),(3,'d'),(4,'d'),(5,'d')]),(4,4,fromList [(0,'c'),(1,'c'),(2,'c'),(3,'d'),(4,'d'),(5,'d')]),(4,5,fromList [(0,'c'),(1,'c'),(2,'c'),(3,'d'),(4,'d'),(5,'d')]),(4,6,fromList [(0,'c'),(1,'c'),(2,'c'),(3,'d'),(4,'d'),(5,'d')])]"
      ]
     },
     "execution_count": 45,
     "metadata": {
     },
     "output_type": "execute_result"
    },
    {
     "data": {
      "text/plain": [
       "(0,0,fromList [(0,'a'),(1,'a'),(2,'a'),(3,'b'),(4,'b'),(5,'b')])\n",
       "(1,1,fromList [(0,'c'),(1,'a'),(2,'a'),(3,'b'),(4,'b'),(5,'b')])\n",
       "(1,2,fromList [(0,'c'),(1,'a'),(2,'a'),(3,'b'),(4,'b'),(5,'b')])\n",
       "(1,3,fromList [(0,'c'),(1,'a'),(2,'a'),(3,'b'),(4,'b'),(5,'b')])\n",
       "(2,2,fromList [(0,'c'),(1,'a'),(2,'a'),(3,'d'),(4,'b'),(5,'b')])\n",
       "(2,1,fromList [(0,'c'),(1,'a'),(2,'a'),(3,'d'),(4,'b'),(5,'b')])\n",
       "(2,0,fromList [(0,'c'),(1,'a'),(2,'a'),(3,'d'),(4,'b'),(5,'b')])\n",
       "(3,1,fromList [(0,'c'),(1,'a'),(2,'a'),(3,'d'),(4,'b'),(5,'b')])\n",
       "(1,2,fromList [(0,'c'),(1,'c'),(2,'a'),(3,'d'),(4,'b'),(5,'b')])\n",
       "(1,3,fromList [(0,'c'),(1,'c'),(2,'a'),(3,'d'),(4,'b'),(5,'b')])\n",
       "(1,4,fromList [(0,'c'),(1,'c'),(2,'a'),(3,'d'),(4,'b'),(5,'b')])\n",
       "(2,3,fromList [(0,'c'),(1,'c'),(2,'a'),(3,'d'),(4,'d'),(5,'b')])\n",
       "(2,2,fromList [(0,'c'),(1,'c'),(2,'a'),(3,'d'),(4,'d'),(5,'b')])\n",
       "(2,1,fromList [(0,'c'),(1,'c'),(2,'a'),(3,'d'),(4,'d'),(5,'b')])\n",
       "(3,2,fromList [(0,'c'),(1,'c'),(2,'a'),(3,'d'),(4,'d'),(5,'b')])\n",
       "(1,3,fromList [(0,'c'),(1,'c'),(2,'c'),(3,'d'),(4,'d'),(5,'b')])\n",
       "(1,4,fromList [(0,'c'),(1,'c'),(2,'c'),(3,'d'),(4,'d'),(5,'b')])\n",
       "(1,5,fromList [(0,'c'),(1,'c'),(2,'c'),(3,'d'),(4,'d'),(5,'b')])\n",
       "(2,4,fromList [(0,'c'),(1,'c'),(2,'c'),(3,'d'),(4,'d'),(5,'d')])\n",
       "(2,3,fromList [(0,'c'),(1,'c'),(2,'c'),(3,'d'),(4,'d'),(5,'d')])\n",
       "(2,2,fromList [(0,'c'),(1,'c'),(2,'c'),(3,'d'),(4,'d'),(5,'d')])\n",
       "(3,3,fromList [(0,'c'),(1,'c'),(2,'c'),(3,'d'),(4,'d'),(5,'d')])\n",
       "(4,4,fromList [(0,'c'),(1,'c'),(2,'c'),(3,'d'),(4,'d'),(5,'d')])\n",
       "(4,5,fromList [(0,'c'),(1,'c'),(2,'c'),(3,'d'),(4,'d'),(5,'d')])\n",
       "(4,6,fromList [(0,'c'),(1,'c'),(2,'c'),(3,'d'),(4,'d'),(5,'d')])"
      ]
     },
     "execution_count": 45,
     "metadata": {
     },
     "output_type": "execute_result"
    }
   ],
   "source": [
    "run anbnDTM config0\n",
    "\n",
    "mapM_ print it"
   ]
  },
  {
   "cell_type": "code",
   "execution_count": 0,
   "metadata": {
    "collapsed": false
   },
   "outputs": [
   ],
   "source": [
   ]
  }
 ],
 "metadata": {
  "kernelspec": {
   "display_name": "Haskell",
   "language": "haskell",
   "name": "haskell"
  },
  "language_info": {
   "codemirror_mode": "ihaskell",
   "file_extension": ".hs",
   "name": "haskell",
   "version": "8.4.2"
  }
 },
 "nbformat": 4,
 "nbformat_minor": 0
}